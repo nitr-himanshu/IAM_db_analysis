{
 "cells": [
  {
   "cell_type": "markdown",
   "metadata": {},
   "source": [
    "# IAM Dataset"
   ]
  },
  {
   "cell_type": "markdown",
   "metadata": {},
   "source": [
    "_Published_ -> The database was first published in at the ICDAR 1999.  \n",
    "\n",
    "\n",
    "About dataset\n",
    "------------------\n",
    "The database contains forms of unconstrained handwritten text, which were scanned at a resolution of 300dpi and saved as PNG images with 256 gray levels. \n",
    "\n",
    "The IAM Handwriting Database 3.0 is structured as follows:\n",
    "- 657 writers contributed samples of their handwriting\n",
    "- 1'539 pages of scanned text\n",
    "- 5'685 isolated and labeled sentences\n",
    "- 13'353 isolated and labeled text lines\n",
    "- 115'320 isolated and labeled words\n",
    "\n",
    "The words have been extracted from pages of scanned text using an automatic segmentation scheme and were verified manually. \n",
    "- Paper name - Automatic Segmentation of the IAM Off-line Database for Handwritten English Text\n",
    "- Authors Matthias Zimmermann, Horst Bunke\n",
    "- Link - http://citeseerx.ist.psu.edu/viewdoc/download?doi=10.1.1.652.1885&rep=rep1&type=pdf\n",
    "\n",
    "\n",
    "\n",
    "Reading dataset\n",
    "----------------\n",
    "- __form.txt__\n",
    "  - format: a01-000u 000 2 prt 7 5 52 36\n",
    "  - a01-000u  -> form id\n",
    "  - 000       -> writer id\n",
    "  - 2         -> number of sentences\n",
    "  - prt       -> word segmentation\n",
    "    - prt: some lines correctly segmented\n",
    "    - all: all lines correctly segmented\n",
    "  - 7 5       -> 5 of 7 lines are correctly segmented into words\n",
    "  - 52 36     -> the form contains 52 words, 36 are in lines which have been correctly segmented"
   ]
  },
  {
   "cell_type": "code",
   "execution_count": null,
   "metadata": {
    "ExecuteTime": {
     "end_time": "2020-01-02T05:30:53.973886Z",
     "start_time": "2020-01-02T05:30:53.934948Z"
    }
   },
   "outputs": [],
   "source": [
    "# import\n",
    "import os\n",
    "import glob\n",
    "import shutil\n",
    "from itertools import islice\n",
    "from collections import defaultdict"
   ]
  },
  {
   "cell_type": "code",
   "execution_count": null,
   "metadata": {
    "ExecuteTime": {
     "end_time": "2020-01-02T05:31:01.344191Z",
     "start_time": "2020-01-02T05:31:01.268333Z"
    }
   },
   "outputs": [],
   "source": [
    "# Create a dictionary to store each writer and its form\n",
    "writer_form = defaultdict(list)\n",
    "forms_file_path = \"D:\\\\dataset\\\\IAM\\\\forms.txt\"\n",
    "with open(forms_file_path) as f:\n",
    "    for line in islice(f, 16, None):\n",
    "        line_list = line.split(' ')\n",
    "        form_id = line_list[0]\n",
    "        writer = line_list[1]\n",
    "        writer_form[writer].append(form_id)\n",
    "list(writer_form.items())"
   ]
  },
  {
   "cell_type": "code",
   "execution_count": null,
   "metadata": {
    "ExecuteTime": {
     "end_time": "2020-01-02T05:31:06.130868Z",
     "start_time": "2020-01-02T05:31:06.091944Z"
    }
   },
   "outputs": [],
   "source": [
    "#print writer and its no of forms\n",
    "print(\"Writer id \\t No. of form\")\n",
    "no_of_form_no_of_writer = defaultdict(int)\n",
    "for key, value in sorted(writer_form.items(), key= lambda kv : len(kv[1]),reverse= True):\n",
    "    print(f\"{key}\\t\\t\\t{len(value)}\")\n",
    "    no_of_form_no_of_writer[len(value)] += 1"
   ]
  },
  {
   "cell_type": "code",
   "execution_count": null,
   "metadata": {
    "ExecuteTime": {
     "end_time": "2020-01-02T05:31:29.863955Z",
     "start_time": "2020-01-02T05:31:29.858966Z"
    }
   },
   "outputs": [],
   "source": [
    "#no_of_form - no_of_writer\n",
    "print(\"No. of form \\t No. of Writer\")\n",
    "for key, value in sorted(no_of_form_no_of_writer.items()):\n",
    "    print(f\"{key}\\t\\t\\t{value}\")"
   ]
  },
  {
   "cell_type": "code",
   "execution_count": null,
   "metadata": {
    "ExecuteTime": {
     "end_time": "2020-01-02T05:34:25.411286Z",
     "start_time": "2020-01-02T05:34:25.402302Z"
    }
   },
   "outputs": [],
   "source": [
    "#function for extracting all image of a writer to one folder\n",
    "def getWriterData( writer_id, writer_form_dict, source_path, dest_path):\n",
    "    '''Extract all image written by author to a folder.'''\n",
    "    if(not os.path.exists(dest_path)):\n",
    "            os.mkdir(dest_path)\n",
    "    writer_id = str(writer_id)\n",
    "    \n",
    "    if(len(writer_form_dict[writer_id]) == 0):\n",
    "        print(\"Invalid Writer id\")\n",
    "        return False\n",
    "    else:\n",
    "        dest_fol_path = os.path.join(dest_path,writer_id)\n",
    "        \n",
    "        if(not os.path.exists(dest_fol_path)):\n",
    "            os.mkdir(dest_fol_path)\n",
    "            \n",
    "        fol_list = writer_form_dict[writer_id]\n",
    "        for fol in fol_list:\n",
    "            fol_name_split = fol.split(\"-\")\n",
    "            parent_fol = fol_name_split[0]\n",
    "            parent_fol_path = os.path.join(source_path,parent_fol)\n",
    "            fol_path = os.path.join(parent_fol_path,fol)\n",
    "            files = os.listdir(fol_path)\n",
    "            for f in files:\n",
    "                shutil.copy(fol_path+'\\\\'+f, dest_fol_path+'\\\\'+f)\n",
    "        print(\"Extracted successfully writer \",writer_id)\n",
    "        return True"
   ]
  },
  {
   "cell_type": "code",
   "execution_count": null,
   "metadata": {
    "ExecuteTime": {
     "end_time": "2020-01-02T07:11:11.394103Z",
     "start_time": "2020-01-02T07:10:49.592138Z"
    }
   },
   "outputs": [],
   "source": [
    "sourcepath = 'D:\\\\dataset\\\\IAM\\\\words'\n",
    "destpath = 'D:\\\\dataset\\\\exp\\\\5_10'\n",
    "wid_list = ['150','151','152','153','154']\n",
    "for wid in wid_list:\n",
    "    getWriterData(wid, writer_form, sourcepath, destpath)"
   ]
  },
  {
   "cell_type": "code",
   "execution_count": null,
   "metadata": {
    "ExecuteTime": {
     "end_time": "2020-01-02T10:27:31.899451Z",
     "start_time": "2020-01-02T10:27:31.890967Z"
    }
   },
   "outputs": [],
   "source": [
    "paths = glob.glob(\"D:\\\\dataset\\\\exp\\\\5_10\\\\*\")\n",
    "for i,path in enumerate(paths):\n",
    "    print(i,path)\n",
    "    os.rename(path, \"D:\\\\dataset\\\\exp\\\\5_10\\\\\" + str(i).zfill(3))"
   ]
  }
 ],
 "metadata": {
  "kernelspec": {
   "display_name": "Python 3",
   "language": "python",
   "name": "python3"
  },
  "language_info": {
   "codemirror_mode": {
    "name": "ipython",
    "version": 3
   },
   "file_extension": ".py",
   "mimetype": "text/x-python",
   "name": "python",
   "nbconvert_exporter": "python",
   "pygments_lexer": "ipython3",
   "version": "3.7.4"
  }
 },
 "nbformat": 4,
 "nbformat_minor": 2
}
